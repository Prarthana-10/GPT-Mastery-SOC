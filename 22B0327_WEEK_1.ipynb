{
  "nbformat": 4,
  "nbformat_minor": 0,
  "metadata": {
    "colab": {
      "provenance": [],
      "include_colab_link": true
    },
    "kernelspec": {
      "name": "python3",
      "display_name": "Python 3"
    },
    "language_info": {
      "name": "python"
    }
  },
  "cells": [
    {
      "cell_type": "markdown",
      "metadata": {
        "id": "view-in-github",
        "colab_type": "text"
      },
      "source": [
        "<a href=\"https://colab.research.google.com/github/Prarthana-10/GPT-Mastery-SOC/blob/main/22B0327_WEEK_1.ipynb\" target=\"_parent\"><img src=\"https://colab.research.google.com/assets/colab-badge.svg\" alt=\"Open In Colab\"/></a>"
      ]
    },
    {
      "cell_type": "markdown",
      "source": [
        "# micrograd exercises\n",
        "\n",
        "1. watch the [micrograd video](https://www.youtube.com/watch?v=VMj-3S1tku0) on YouTube\n",
        "2. come back and complete these exercises to level up :)"
      ],
      "metadata": {
        "id": "JnGHatCI51JP"
      }
    },
    {
      "cell_type": "markdown",
      "source": [
        "## section 1: derivatives"
      ],
      "metadata": {
        "id": "OFt6NKOz6iBZ"
      }
    },
    {
      "cell_type": "code",
      "source": [
        "# here is a mathematical expression that takes 3 inputs and produces one output\n",
        "from math import sin, cos\n",
        "\n",
        "def f(a, b, c):\n",
        "  return -a**3 + sin(3*b) - 1.0/c + b**2.5 - a**0.5\n",
        "\n",
        "print(f(2, 3, 4))"
      ],
      "metadata": {
        "id": "3Jx9fCXl5xHd",
        "colab": {
          "base_uri": "https://localhost:8080/"
        },
        "outputId": "27fbc2ba-9f62-40ea-9576-487a308c3cbc"
      },
      "execution_count": null,
      "outputs": [
        {
          "output_type": "stream",
          "name": "stdout",
          "text": [
            "6.336362190988558\n"
          ]
        }
      ]
    },
    {
      "cell_type": "code",
      "source": [
        "# write the function df that returns the analytical gradient of f\n",
        "# i.e. use your skills from calculus to take the derivative, then implement the formula\n",
        "# if you do not calculus then feel free to ask wolframalpha, e.g.:\n",
        "# https://www.wolframalpha.com/input?i=d%2Fda%28sin%283*a%29%29%29\n",
        "\n",
        "def gradf(a, b, c):\n",
        "    df_da = -3 * a**2 - (1/2) * a**-0.5\n",
        "    df_db = 3 * cos(3 * b) + (5/2) * b**1.5\n",
        "    df_dc = 1 / c**2\n",
        "    return [df_da, df_db, df_dc]\n",
        "# todo, return [df/da, df/db, df/dc]\n",
        "\n",
        "# expected answer is the list of\n",
        "ans = [-12.353553390593273, 10.25699027111255, 0.0625]\n",
        "yours = gradf(2, 3, 4)\n",
        "for dim in range(3):\n",
        "  ok = 'OK' if abs(yours[dim] - ans[dim]) < 1e-5 else 'WRONG!'\n",
        "  print(f\"{ok} for dim {dim}: expected {ans[dim]}, yours returns {yours[dim]}\")"
      ],
      "metadata": {
        "id": "qXaH59eL9zxf",
        "colab": {
          "base_uri": "https://localhost:8080/"
        },
        "outputId": "32028f81-50d9-4414-bdce-144f2aef8239"
      },
      "execution_count": null,
      "outputs": [
        {
          "output_type": "stream",
          "name": "stdout",
          "text": [
            "OK for dim 0: expected -12.353553390593273, yours returns -12.353553390593273\n",
            "OK for dim 1: expected 10.25699027111255, yours returns 10.25699027111255\n",
            "OK for dim 2: expected 0.0625, yours returns 0.0625\n"
          ]
        }
      ]
    },
    {
      "cell_type": "code",
      "source": [
        "# now estimate the gradient numerically without any calculus, using\n",
        "# the approximation we used in the video.\n",
        "# you should not call the function df from the last cell\n",
        "\n",
        "# -----------\n",
        "def f(a, b, c):\n",
        "    return -a**3 + sin(3*b) - 1.0/c + b**2.5 - a**0.5\n",
        "\n",
        "def numerical_gradient(f, a, b, c, h=1e-7):\n",
        "    df_da = (f(a + h, b, c) - f(a, b, c)) / h\n",
        "    df_db = (f(a, b + h, c) - f(a, b, c)) / h\n",
        "    df_dc = (f(a, b, c + h) - f(a, b, c)) / h\n",
        "    return [df_da, df_db, df_dc]\n",
        "\n",
        "# Calculate the numerical gradient\n",
        "numerical_grad = numerical_gradient(f, 2, 3, 4)\n",
        "# -----------\n",
        "\n",
        "# Test the function with the given values\n",
        "ans = [-12.353553390593273, 10.25699027111255, 0.0625]\n",
        "\n",
        "for dim in range(3):\n",
        "  ok = 'OK' if abs(numerical_grad[dim] - ans[dim]) < 1e-5 else 'WRONG!'\n",
        "  print(f\"{ok} for dim {dim}: expected {ans[dim]}, yours returns {numerical_grad[dim]}\")"
      ],
      "metadata": {
        "id": "_27n-KTA9Qla",
        "colab": {
          "base_uri": "https://localhost:8080/"
        },
        "outputId": "a9bbb0cf-afc2-4ae1-af5e-5081cf1c8223"
      },
      "execution_count": null,
      "outputs": [
        {
          "output_type": "stream",
          "name": "stdout",
          "text": [
            "OK for dim 0: expected -12.353553390593273, yours returns -12.353553966448771\n",
            "OK for dim 1: expected 10.25699027111255, yours returns 10.256990385926201\n",
            "OK for dim 2: expected 0.0625, yours returns 0.06249999628948899\n"
          ]
        }
      ]
    },
    {
      "cell_type": "code",
      "source": [
        "# there is an alternative formula that provides a much better numerical\n",
        "# approximation to the derivative of a function.\n",
        "# learn about it here: https://en.wikipedia.org/wiki/Symmetric_derivative\n",
        "# implement it. confirm that for the same step size h this version gives a\n",
        "# better approximation.\n",
        "\n",
        "def f(a, b, c):\n",
        "    return -a**3 + sin(3*b) - 1.0/c + b**2.5 - a**0.5\n",
        "\n",
        "def symmetric_numerical_gradient(f, a, b, c, h=1e-5):\n",
        "    df_da = (f(a + h, b, c) - f(a - h, b, c)) / (2 * h)\n",
        "    df_db = (f(a, b + h, c) - f(a, b - h, c)) / (2 * h)\n",
        "    df_dc = (f(a, b, c + h) - f(a, b, c - h)) / (2 * h)\n",
        "    return [df_da, df_db, df_dc]\n",
        "\n",
        "# -----------\n",
        "numerical_grad2 = symmetric_numerical_gradient(f, 2, 3, 4) # TODO\n",
        "# -----------\n",
        "\n",
        "for dim in range(3):\n",
        "  ok = 'OK' if abs(numerical_grad2[dim] - ans[dim]) < 1e-5 else 'WRONG!'\n",
        "  print(f\"{ok} for dim {dim}: expected {ans[dim]}, yours returns {numerical_grad2[dim]}\")\n"
      ],
      "metadata": {
        "id": "BUqsGb5o_h2P",
        "colab": {
          "base_uri": "https://localhost:8080/"
        },
        "outputId": "4d768f43-282b-420e-9003-bee14e77d5fe"
      },
      "execution_count": null,
      "outputs": [
        {
          "output_type": "stream",
          "name": "stdout",
          "text": [
            "OK for dim 0: expected -12.353553390593273, yours returns -12.353553390820336\n",
            "OK for dim 1: expected 10.25699027111255, yours returns 10.256990271617639\n",
            "OK for dim 2: expected 0.0625, yours returns 0.06250000001983835\n"
          ]
        }
      ]
    },
    {
      "cell_type": "markdown",
      "source": [
        "## section 2: support for softmax"
      ],
      "metadata": {
        "id": "tklF9s_4AtlI"
      }
    },
    {
      "cell_type": "code",
      "source": [
        "# Value class starter code, with many functions taken out\n",
        "from math import exp, log\n",
        "\n",
        "class Value:\n",
        "\n",
        "  def __init__(self, data, _children=(), _op='', label=''):\n",
        "    self.data = data\n",
        "    self.grad = 0.0\n",
        "    self._backward = lambda: None\n",
        "    self._prev = set(_children)\n",
        "    self._op = _op\n",
        "    self.label = label\n",
        "\n",
        "  def __repr__(self):\n",
        "    return f\"Value(data={self.data})\"\n",
        "\n",
        "  def __add__(self, other): # exactly as in the video\n",
        "    other = other if isinstance(other, Value) else Value(other)\n",
        "    out = Value(self.data + other.data, (self, other), '+')\n",
        "\n",
        "    def _backward():\n",
        "      self.grad += 1.0 * out.grad\n",
        "      other.grad += 1.0 * out.grad\n",
        "    out._backward = _backward\n",
        "\n",
        "    return out\n",
        "\n",
        "\n",
        "  # re-implement all the other functions needed for the exercises below\n",
        "  # your code here\n",
        "  #TODO\n",
        "def __radd__(self, other):\n",
        "        return self + other\n",
        "\n",
        "def __sub__(self, other):\n",
        "        other = other if isinstance(other, Value) else Value(other)\n",
        "        out = Value(self.data - other.data, (self, other), '-')\n",
        "\n",
        "        def _backward():\n",
        "            self.grad += 1.0 * out.grad\n",
        "            other.grad -= 1.0 * out.grad\n",
        "        out._backward = _backward\n",
        "\n",
        "        return out\n",
        "def __rsub__(self, other):\n",
        "        return Value(other) - self\n",
        "\n",
        "def __mul__(self, other):\n",
        "        other = other if isinstance(other, Value) else Value(other)\n",
        "        out = Value(self.data * other.data, (self, other), '*')\n",
        "\n",
        "        def _backward():\n",
        "            self.grad += other.data * out.grad\n",
        "            other.grad += self.data * out.grad\n",
        "        out._backward = _backward\n",
        "\n",
        "        return out\n",
        "\n",
        "def __rmul__(self, other):\n",
        "        return self * other\n",
        "\n",
        "def __truediv__(self, other):\n",
        "        other = other if isinstance(other, Value) else Value(other)\n",
        "        out = Value(self.data / other.data, (self, other), '/')\n",
        "\n",
        "        def _backward():\n",
        "            self.grad += (1.0 / other.data) * out.grad\n",
        "            other.grad -= (self.data / (other.data ** 2)) * out.grad\n",
        "        out._backward = _backward\n",
        "\n",
        "        return out\n",
        "\n",
        "def __rtruediv__(self, other):\n",
        "        return Value(other) / self\n",
        "\n",
        "def __pow__(self, other):\n",
        "        assert isinstance(other, (int, float)), \"Only supports int/float powers\"\n",
        "        out = Value(self.data ** other, (self,), f'**{other}')\n",
        "\n",
        "        def _backward():\n",
        "            self.grad += (other * (self.data ** (other - 1))) * out.grad\n",
        "        out._backward = _backward\n",
        "\n",
        "        return out\n",
        "\n",
        "def exp(self):\n",
        "        out = Value(exp(self.data), (self,), 'exp')\n",
        "\n",
        "        def _backward():\n",
        "            self.grad += out.data * out.grad\n",
        "        out._backward = _backward\n",
        "\n",
        "        return out\n",
        "\n",
        "def log(self):\n",
        "        out = Value(log(self.data), (self,), 'log')\n",
        "\n",
        "        def _backward():\n",
        "            self.grad += (1 / self.data) * out.grad\n",
        "        out._backward = _backward\n",
        "\n",
        "        return out\n",
        "\n",
        "#-------\n",
        "\n",
        "def backward(self): # exactly as in video\n",
        "    topo = []\n",
        "    visited = set()\n",
        "    def build_topo(v):\n",
        "      if v not in visited:\n",
        "        visited.add(v)\n",
        "        for child in v._prev:\n",
        "          build_topo(child)\n",
        "        topo.append(v)\n",
        "    build_topo(self)\n",
        "\n",
        "    self.grad = 1.0\n",
        "    for node in reversed(topo):\n",
        "      node._backward()"
      ],
      "metadata": {
        "id": "nAPe_RVrCTeO"
      },
      "execution_count": null,
      "outputs": []
    },
    {
      "cell_type": "code",
      "source": [
        "# without referencing our code/video __too__ much, make this cell work\n",
        "# you'll have to implement (in some cases re-implemented) a number of functions\n",
        "# of the Value object, similar to what we've seen in the video.\n",
        "# instead of the squared error loss this implements the negative log likelihood\n",
        "# loss, which is very often used in classification.\n",
        "\n",
        "# this is the softmax function\n",
        "# https://en.wikipedia.org/wiki/Softmax_function\n",
        "\n",
        "from math import exp, log\n",
        "\n",
        "class Value:\n",
        "    def __init__(self, data, _children=(), _op='', label=''):\n",
        "        self.data = data\n",
        "        self.grad = 0.0\n",
        "        self._backward = lambda: None\n",
        "        self._prev = set(_children)\n",
        "        self._op = _op\n",
        "        self.label = label\n",
        "\n",
        "    def __repr__(self):\n",
        "        return f\"Value(data={self.data})\"\n",
        "\n",
        "    def __add__(self, other):\n",
        "        other = other if isinstance(other, Value) else Value(other)\n",
        "        out = Value(self.data + other.data, (self, other), '+')\n",
        "\n",
        "        def _backward():\n",
        "            self.grad += 1.0 * out.grad\n",
        "            other.grad += 1.0 * out.grad\n",
        "        out._backward = _backward\n",
        "\n",
        "        return out\n",
        "\n",
        "    def __radd__(self, other):\n",
        "        return self + other\n",
        "\n",
        "    def __sub__(self, other):\n",
        "        other = other if isinstance(other, Value) else Value(other)\n",
        "        out = Value(self.data - other.data, (self, other), '-')\n",
        "\n",
        "        def _backward():\n",
        "            self.grad += 1.0 * out.grad\n",
        "            other.grad -= 1.0 * out.grad\n",
        "        out._backward = _backward\n",
        "\n",
        "        return out\n",
        "\n",
        "    def __rsub__(self, other):\n",
        "        return Value(other) - self\n",
        "\n",
        "    def __mul__(self, other):\n",
        "        other = other if isinstance(other, Value) else Value(other)\n",
        "        out = Value(self.data * other.data, (self, other), '*')\n",
        "\n",
        "        def _backward():\n",
        "            self.grad += other.data * out.grad\n",
        "            other.grad += self.data * out.grad\n",
        "        out._backward = _backward\n",
        "\n",
        "        return out\n",
        "\n",
        "    def __rmul__(self, other):\n",
        "        return self * other\n",
        "\n",
        "    def __truediv__(self, other):\n",
        "        other = other if isinstance(other, Value) else Value(other)\n",
        "        out = Value(self.data / other.data, (self, other), '/')\n",
        "\n",
        "        def _backward():\n",
        "            self.grad += (1.0 / other.data) * out.grad\n",
        "            other.grad -= (self.data / (other.data ** 2)) * out.grad\n",
        "        out._backward = _backward\n",
        "\n",
        "        return out\n",
        "\n",
        "    def __rtruediv__(self, other):\n",
        "        return Value(other) / self\n",
        "\n",
        "    def __pow__(self, other):\n",
        "        assert isinstance(other, (int, float)), \"Only supports int/float powers\"\n",
        "        out = Value(self.data ** other, (self,), f'**{other}')\n",
        "\n",
        "        def _backward():\n",
        "            self.grad += (other * (self.data ** (other - 1))) * out.grad\n",
        "        out._backward = _backward\n",
        "\n",
        "        return out\n",
        "\n",
        "    def exp(self):\n",
        "        out = Value(exp(self.data), (self,), 'exp')\n",
        "\n",
        "        def _backward():\n",
        "            self.grad += out.data * out.grad\n",
        "        out._backward = _backward\n",
        "\n",
        "        return out\n",
        "\n",
        "    def log(self):\n",
        "        out = Value(log(self.data), (self,), 'log')\n",
        "\n",
        "        def _backward():\n",
        "            self.grad += (1 / self.data) * out.grad\n",
        "        out._backward = _backward\n",
        "\n",
        "        return out\n",
        "\n",
        "    def __neg__(self):\n",
        "        out = Value(-self.data, (self,), '-neg')\n",
        "\n",
        "        def _backward():\n",
        "            self.grad -= 1.0 * out.grad\n",
        "        out._backward = _backward\n",
        "\n",
        "        return out\n",
        "\n",
        "    def backward(self):\n",
        "        topo = []\n",
        "        visited = set()\n",
        "\n",
        "        def build_topo(v):\n",
        "            if v not in visited:\n",
        "                visited.add(v)\n",
        "                for child in v._prev:\n",
        "                    build_topo(child)\n",
        "                topo.append(v)\n",
        "\n",
        "        build_topo(self)\n",
        "\n",
        "        self.grad = 1.0\n",
        "        for node in reversed(topo):\n",
        "            node._backward()\n",
        "\n",
        "# Softmax and negative log likelihood functions\n",
        "def softmax(logits):\n",
        "    counts = [logit.exp() for logit in logits]\n",
        "    denominator = sum(counts)\n",
        "    out = [c / denominator for c in counts]\n",
        "    return out\n",
        "\n",
        "# Testing the implementation with the provided logits and softmax\n",
        "logits = [Value(0.0), Value(3.0), Value(-2.0), Value(1.0)]\n",
        "probs = softmax(logits)\n",
        "loss = -probs[3].log() # dim 3 acts as the label for this input example\n",
        "loss.backward()\n",
        "print(loss.data)\n",
        "\n",
        "# Checking the gradients\n",
        "ans = [0.041772570515350445, 0.8390245074625319, 0.005653302662216329, -0.8864503806400986]\n",
        "for dim in range(4):\n",
        "    ok = 'OK' if abs(logits[dim].grad - ans[dim]) < 1e-5 else 'WRONG!'\n",
        "    print(f\"{ok} for dim {dim}: expected {ans[dim]}, yours returns {logits[dim].grad}\")\n"
      ],
      "metadata": {
        "id": "VgWvwVQNAvnI",
        "colab": {
          "base_uri": "https://localhost:8080/"
        },
        "outputId": "e22c1e61-8230-46c6-dfed-d15552091df3"
      },
      "execution_count": null,
      "outputs": [
        {
          "output_type": "stream",
          "name": "stdout",
          "text": [
            "2.1755153626167147\n",
            "OK for dim 0: expected 0.041772570515350445, yours returns 0.041772570515350445\n",
            "OK for dim 1: expected 0.8390245074625319, yours returns 0.8390245074625319\n",
            "OK for dim 2: expected 0.005653302662216329, yours returns 0.005653302662216329\n",
            "OK for dim 3: expected -0.8864503806400986, yours returns -0.886450380640099\n"
          ]
        }
      ]
    },
    {
      "cell_type": "code",
      "source": [
        "# verify the gradient using the torch library\n",
        "# torch should give you the exact same gradient\n",
        "import torch\n",
        "\n",
        "# Initialize the logits as PyTorch tensors and set requires_grad=True\n",
        "logits = [torch.tensor(0.0, requires_grad=True),\n",
        "          torch.tensor(3.0, requires_grad=True),\n",
        "          torch.tensor(-2.0, requires_grad=True),\n",
        "          torch.tensor(1.0, requires_grad=True)]\n",
        "\n",
        "# Stack logits into a single tensor\n",
        "logits_tensor = torch.stack(logits)\n",
        "\n",
        "# Compute softmax probabilities\n",
        "probs = torch.nn.functional.softmax(logits_tensor, dim=0)\n",
        "\n",
        "# Compute the negative log likelihood loss\n",
        "loss = -torch.log(probs[3])  # dim 3 acts as the label for this input example\n",
        "\n",
        "# Backward pass to compute gradients\n",
        "loss.backward()\n",
        "\n",
        "# Print loss value\n",
        "print(f\"Loss: {loss.item()}\")\n",
        "\n",
        "# Expected gradients\n",
        "ans = [0.041772570515350445, 0.8390245074625319, 0.005653302662216329, -0.8864503806400986]\n",
        "\n",
        "# Print gradients\n",
        "for i, logit in enumerate(logits):\n",
        "    ok = 'OK' if abs(logit.grad.item() - ans[i]) < 1e-5 else 'WRONG!'\n",
        "    print(f\"{ok} for dim {i}: expected {ans[i]}, torch returns {logit.grad.item()}\")\n"
      ],
      "metadata": {
        "id": "q7ca1SVAGG1S",
        "colab": {
          "base_uri": "https://localhost:8080/"
        },
        "outputId": "3ced34fc-0251-4035-8e63-402ba9eae85d"
      },
      "execution_count": null,
      "outputs": [
        {
          "output_type": "stream",
          "name": "stdout",
          "text": [
            "Loss: 2.1755154132843018\n",
            "OK for dim 0: expected 0.041772570515350445, torch returns 0.041772566735744476\n",
            "OK for dim 1: expected 0.8390245074625319, torch returns 0.8390244841575623\n",
            "OK for dim 2: expected 0.005653302662216329, torch returns 0.005653302650898695\n",
            "OK for dim 3: expected -0.8864503806400986, torch returns -0.8864504098892212\n"
          ]
        }
      ]
    }
  ]
}